{
  "nbformat": 4,
  "nbformat_minor": 0,
  "metadata": {
    "colab": {
      "provenance": []
    },
    "kernelspec": {
      "name": "python3",
      "display_name": "Python 3"
    },
    "language_info": {
      "name": "python"
    }
  },
  "cells": [
    {
      "cell_type": "code",
      "execution_count": 1,
      "metadata": {
        "id": "AP2zXYmYPObf"
      },
      "outputs": [],
      "source": [
        "import pandas as pd\n",
        "import numpy as np\n",
        "import time\n",
        "import matplotlib.pyplot as plt\n",
        "import seaborn as sns\n",
        "from sklearn.preprocessing import LabelEncoder, StandardScaler\n",
        "from sklearn.model_selection import train_test_split, GridSearchCV\n",
        "from sklearn.impute import SimpleImputer\n",
        "from sklearn.metrics import accuracy_score, precision_score, recall_score, f1_score, confusion_matrix, classification_report\n",
        "from xgboost import XGBClassifier\n",
        "import joblib"
      ]
    },
    {
      "cell_type": "code",
      "source": [
        "# Step 1: Data Collection & Preprocessing\n",
        "# Load dataset\n",
        "csv_file_path = \"/content/hypothyroid.csv\"\n",
        "df = pd.read_csv(csv_file_path)\n",
        "\n",
        "# Conduct Exploratory Data Analysis (EDA)\n",
        "print(\"Dataset Overview:\")\n",
        "print(df.head())\n",
        "print(\"\\nData Info:\")\n",
        "print(df.info())\n",
        "print(\"\\nMissing Values Per Column:\")\n",
        "print(df.isnull().sum())\n",
        "print(\"\\nStatistical Summary of Numeric Columns:\")\n",
        "print(df.describe())"
      ],
      "metadata": {
        "colab": {
          "base_uri": "https://localhost:8080/"
        },
        "id": "viV00hWYPUpT",
        "outputId": "f32fc3db-45c3-4ab8-d73a-9e323fc3e209"
      },
      "execution_count": 4,
      "outputs": [
        {
          "output_type": "stream",
          "name": "stdout",
          "text": [
            "Dataset Overview:\n",
            "  age sex on thyroxine query on thyroxine on antithyroid medication sick  \\\n",
            "0  41   F            f                  f                         f    f   \n",
            "1  23   F            f                  f                         f    f   \n",
            "2  46   M            f                  f                         f    f   \n",
            "3  70   F            t                  f                         f    f   \n",
            "4  70   F            f                  f                         f    f   \n",
            "\n",
            "  pregnant thyroid surgery I131 treatment query hypothyroid  ...   T3  \\\n",
            "0        f               f              f                 f  ...  2.5   \n",
            "1        f               f              f                 f  ...    2   \n",
            "2        f               f              f                 f  ...    ?   \n",
            "3        f               f              f                 f  ...  1.9   \n",
            "4        f               f              f                 f  ...  1.2   \n",
            "\n",
            "  TT4 measured  TT4 T4U measured   T4U FTI measured  FTI TBG measured  \\\n",
            "0            t  125            t  1.14            t  109            f   \n",
            "1            t  102            f     ?            f    ?            f   \n",
            "2            t  109            t  0.91            t  120            f   \n",
            "3            t  175            f     ?            f    ?            f   \n",
            "4            t   61            t  0.87            t   70            f   \n",
            "\n",
            "  referral source binaryClass  \n",
            "0            SVHC           P  \n",
            "1           other           P  \n",
            "2           other           P  \n",
            "3           other           P  \n",
            "4             SVI           P  \n",
            "\n",
            "[5 rows x 29 columns]\n",
            "\n",
            "Data Info:\n",
            "<class 'pandas.core.frame.DataFrame'>\n",
            "RangeIndex: 3772 entries, 0 to 3771\n",
            "Data columns (total 29 columns):\n",
            " #   Column                     Non-Null Count  Dtype \n",
            "---  ------                     --------------  ----- \n",
            " 0   age                        3772 non-null   object\n",
            " 1   sex                        3772 non-null   object\n",
            " 2   on thyroxine               3772 non-null   object\n",
            " 3   query on thyroxine         3772 non-null   object\n",
            " 4   on antithyroid medication  3772 non-null   object\n",
            " 5   sick                       3772 non-null   object\n",
            " 6   pregnant                   3772 non-null   object\n",
            " 7   thyroid surgery            3772 non-null   object\n",
            " 8   I131 treatment             3772 non-null   object\n",
            " 9   query hypothyroid          3772 non-null   object\n",
            " 10  query hyperthyroid         3772 non-null   object\n",
            " 11  lithium                    3772 non-null   object\n",
            " 12  goitre                     3772 non-null   object\n",
            " 13  tumor                      3772 non-null   object\n",
            " 14  hypopituitary              3772 non-null   object\n",
            " 15  psych                      3772 non-null   object\n",
            " 16  TSH measured               3772 non-null   object\n",
            " 17  TSH                        3772 non-null   object\n",
            " 18  T3 measured                3772 non-null   object\n",
            " 19  T3                         3772 non-null   object\n",
            " 20  TT4 measured               3772 non-null   object\n",
            " 21  TT4                        3772 non-null   object\n",
            " 22  T4U measured               3772 non-null   object\n",
            " 23  T4U                        3772 non-null   object\n",
            " 24  FTI measured               3772 non-null   object\n",
            " 25  FTI                        3772 non-null   object\n",
            " 26  TBG measured               3772 non-null   object\n",
            " 27  referral source            3772 non-null   object\n",
            " 28  binaryClass                3772 non-null   object\n",
            "dtypes: object(29)\n",
            "memory usage: 854.7+ KB\n",
            "None\n",
            "\n",
            "Missing Values Per Column:\n",
            "age                          0\n",
            "sex                          0\n",
            "on thyroxine                 0\n",
            "query on thyroxine           0\n",
            "on antithyroid medication    0\n",
            "sick                         0\n",
            "pregnant                     0\n",
            "thyroid surgery              0\n",
            "I131 treatment               0\n",
            "query hypothyroid            0\n",
            "query hyperthyroid           0\n",
            "lithium                      0\n",
            "goitre                       0\n",
            "tumor                        0\n",
            "hypopituitary                0\n",
            "psych                        0\n",
            "TSH measured                 0\n",
            "TSH                          0\n",
            "T3 measured                  0\n",
            "T3                           0\n",
            "TT4 measured                 0\n",
            "TT4                          0\n",
            "T4U measured                 0\n",
            "T4U                          0\n",
            "FTI measured                 0\n",
            "FTI                          0\n",
            "TBG measured                 0\n",
            "referral source              0\n",
            "binaryClass                  0\n",
            "dtype: int64\n",
            "\n",
            "Statistical Summary of Numeric Columns:\n",
            "         age   sex on thyroxine query on thyroxine on antithyroid medication  \\\n",
            "count   3772  3772         3772               3772                      3772   \n",
            "unique    94     3            2                  2                         2   \n",
            "top       59     F            f                  f                         f   \n",
            "freq      95  2480         3308               3722                      3729   \n",
            "\n",
            "        sick pregnant thyroid surgery I131 treatment query hypothyroid  ...  \\\n",
            "count   3772     3772            3772           3772              3772  ...   \n",
            "unique     2        2               2              2                 2  ...   \n",
            "top        f        f               f              f                 f  ...   \n",
            "freq    3625     3719            3719           3713              3538  ...   \n",
            "\n",
            "          T3 TT4 measured   TT4 T4U measured   T4U FTI measured   FTI  \\\n",
            "count   3772         3772  3772         3772  3772         3772  3772   \n",
            "unique    70            2   242            2   147            2   235   \n",
            "top        ?            t     ?            t     ?            t     ?   \n",
            "freq     769         3541   231         3385   387         3387   385   \n",
            "\n",
            "       TBG measured referral source binaryClass  \n",
            "count          3772            3772        3772  \n",
            "unique            1               5           2  \n",
            "top               f           other           P  \n",
            "freq           3772            2201        3481  \n",
            "\n",
            "[4 rows x 29 columns]\n"
          ]
        }
      ]
    },
    {
      "cell_type": "code",
      "source": [
        "import numpy as np\n",
        "import pandas as pd\n",
        "\n",
        "# Step 1: Remove rows containing \"?\" values by replacing with NaN and dropping them\n",
        "df.replace(\"?\", np.nan, inplace=True)\n",
        "df.dropna(inplace=True)\n",
        "\n",
        "# Step 2: Define binary columns\n",
        "binary_cols = ['on thyroxine', 'query on thyroxine', 'on antithyroid medication',\n",
        "               'sick', 'pregnant', 'thyroid surgery', 'I131 treatment',\n",
        "               'query hypothyroid', 'query hyperthyroid', 'lithium', 'goitre',\n",
        "               'tumor', 'hypopituitary', 'psych', 'TSH measured',\n",
        "               'T3 measured', 'TT4 measured', 'T4U measured',\n",
        "               'FTI measured', 'TBG measured']\n",
        "\n",
        "# Step 3: Map binary columns to 0 and 1\n",
        "for col in binary_cols:\n",
        "    df[col] = df[col].map({'t': 1, 'f': 0}).astype('int64')  # Ensure compatible dtype\n",
        "\n"
      ],
      "metadata": {
        "id": "T95WkuotPUrV"
      },
      "execution_count": 5,
      "outputs": []
    },
    {
      "cell_type": "code",
      "source": [
        "# Encode categorical columns\n",
        "df['sex'] = df['sex'].map({'M': 1, 'F': 0})\n",
        "df['binaryClass'] = df['binaryClass'].map({'P': 1, 'N': 0})\n",
        "label_encoder = LabelEncoder()\n",
        "df['referral source'] = label_encoder.fit_transform(df['referral source'])"
      ],
      "metadata": {
        "id": "uhACWzQHPUtr"
      },
      "execution_count": 6,
      "outputs": []
    },
    {
      "cell_type": "code",
      "source": [
        "# Separate features and target\n",
        "X = df.drop('binaryClass', axis=1)\n",
        "y = df['binaryClass']"
      ],
      "metadata": {
        "id": "3GGs06jGPUv8"
      },
      "execution_count": 7,
      "outputs": []
    },
    {
      "cell_type": "code",
      "source": [
        "# Impute missing values\n",
        "imputer = SimpleImputer(strategy='most_frequent')\n",
        "X = imputer.fit_transform(X)\n"
      ],
      "metadata": {
        "id": "sLsFnITfPUyI"
      },
      "execution_count": 8,
      "outputs": []
    },
    {
      "cell_type": "code",
      "source": [
        "# Split dataset\n",
        "X_train, X_test, y_train, y_test = train_test_split(X, y, test_size=0.2, random_state=42)"
      ],
      "metadata": {
        "id": "GAscsaF8PU0f"
      },
      "execution_count": 9,
      "outputs": []
    },
    {
      "cell_type": "code",
      "source": [
        "# Standardize the data\n",
        "scaler = StandardScaler()\n",
        "X_train = scaler.fit_transform(X_train)\n",
        "X_test = scaler.transform(X_test)"
      ],
      "metadata": {
        "id": "J5Rl0x1dPU2i"
      },
      "execution_count": 10,
      "outputs": []
    },
    {
      "cell_type": "code",
      "source": [
        "# Step 2: Model Training\n",
        "# Initialize models\n",
        "models = {\n",
        "    \"XGBoost\": XGBClassifier(random_state=42, eval_metric='logloss'),\n",
        "}\n",
        "\n",
        "# Train and evaluate models\n",
        "best_model = None\n",
        "best_score = 0\n",
        "for model_name, model in models.items():\n",
        "    print(f\"\\nTraining {model_name}...\")\n",
        "    start_time = time.time()\n",
        "    model.fit(X_train, y_train)\n",
        "    training_time = time.time() - start_time\n",
        "    print(f\"Training Time: {training_time:.2f} seconds\")"
      ],
      "metadata": {
        "colab": {
          "base_uri": "https://localhost:8080/"
        },
        "id": "j-KVgbQSPU43",
        "outputId": "93d74e33-8cab-45d2-c264-9ea9d4a9d1ef"
      },
      "execution_count": 11,
      "outputs": [
        {
          "output_type": "stream",
          "name": "stdout",
          "text": [
            "\n",
            "Training XGBoost...\n",
            "Training Time: 0.13 seconds\n"
          ]
        }
      ]
    },
    {
      "cell_type": "code",
      "source": [
        "# Evaluate the model\n",
        "y_pred = model.predict(X_test)\n",
        "accuracy = accuracy_score(y_test, y_pred)\n",
        "precision = precision_score(y_test, y_pred)\n",
        "recall = recall_score(y_test, y_pred)\n",
        "f1 = f1_score(y_test, y_pred)\n",
        "\n",
        "print(f\"{model_name} Performance:\")\n",
        "print(f\"Accuracy: {accuracy:.4f}, Precision: {precision:.4f}, Recall: {recall:.4f}, F1 Score: {f1:.4f}\")\n",
        "\n",
        "# Save the best model\n",
        "if f1 > best_score:\n",
        "    best_model = model\n",
        "    best_score = f1\n",
        "\n"
      ],
      "metadata": {
        "colab": {
          "base_uri": "https://localhost:8080/"
        },
        "id": "9QYQpk0aPU7F",
        "outputId": "34bafd76-9085-47f0-ec8f-a6e1228c99de"
      },
      "execution_count": 12,
      "outputs": [
        {
          "output_type": "stream",
          "name": "stdout",
          "text": [
            "XGBoost Performance:\n",
            "Accuracy: 0.9943, Precision: 0.9979, Recall: 0.9958, F1 Score: 0.9968\n"
          ]
        }
      ]
    },
    {
      "cell_type": "code",
      "source": [
        "# Step 3: Model Evaluation\n",
        "print(\"\\nEvaluating the Best Model...\")\n",
        "y_pred = best_model.predict(X_test)\n",
        "conf_matrix = confusion_matrix(y_test, y_pred)\n",
        "\n",
        "print(\"Confusion Matrix:\\n\", conf_matrix)\n",
        "print(\"Classification Report:\\n\", classification_report(y_test, y_pred))"
      ],
      "metadata": {
        "colab": {
          "base_uri": "https://localhost:8080/"
        },
        "id": "P_nAZP20Pt-g",
        "outputId": "b0f9ce47-c279-4e5c-8952-57e5f5a28dc2"
      },
      "execution_count": 13,
      "outputs": [
        {
          "output_type": "stream",
          "name": "stdout",
          "text": [
            "\n",
            "Evaluating the Best Model...\n",
            "Confusion Matrix:\n",
            " [[ 52   1]\n",
            " [  2 474]]\n",
            "Classification Report:\n",
            "               precision    recall  f1-score   support\n",
            "\n",
            "           0       0.96      0.98      0.97        53\n",
            "           1       1.00      1.00      1.00       476\n",
            "\n",
            "    accuracy                           0.99       529\n",
            "   macro avg       0.98      0.99      0.98       529\n",
            "weighted avg       0.99      0.99      0.99       529\n",
            "\n"
          ]
        }
      ]
    },
    {
      "cell_type": "code",
      "source": [
        "# Visualize Feature Importances\n",
        "if hasattr(best_model, 'feature_importances_'):\n",
        "    feature_importances = best_model.feature_importances_\n",
        "    plt.figure(figsize=(10, 6))\n",
        "    plt.barh(range(len(feature_importances)), feature_importances)\n",
        "    plt.title('Feature Importances')\n",
        "    plt.xlabel('Importance')\n",
        "    plt.ylabel('Feature Index')\n",
        "    plt.show()"
      ],
      "metadata": {
        "colab": {
          "base_uri": "https://localhost:8080/",
          "height": 564
        },
        "id": "8OD9eVSfPuAZ",
        "outputId": "c5bd944f-972a-41ad-b7fe-30c12f463a68"
      },
      "execution_count": 14,
      "outputs": [
        {
          "output_type": "display_data",
          "data": {
            "text/plain": [
              "<Figure size 1000x600 with 1 Axes>"
            ],
            "image/png": "[encoded data removed]"
          },
          "metadata": {}
        }
      ]
    },
    {
      "cell_type": "code",
      "source": [
        "# Step 4: Model Deployment\n",
        "# Save the best model\n",
        "joblib.dump(best_model, 'best_model.pkl')\n",
        "print(\"Model saved as 'best_model.pkl'.\")\n",
        "\n",
        "# Deployment Instructions\n",
        "print(\"To deploy the model as an API, use a framework like Flask or FastAPI.\")\n",
        "print(\"\"\"\n",
        "Example Flask API:\n",
        "------------------\n",
        "from flask import Flask, request, jsonify\n",
        "import joblib\n",
        "\n",
        "app = Flask(__name__)\n",
        "model = joblib.load('best_model.pkl')\n",
        "\n",
        "@app.route('/predict', methods=['POST'])\n",
        "def predict():\n",
        "    data = request.json\n",
        "    prediction = model.predict([data['features']])\n",
        "    return jsonify({'prediction': int(prediction[0])})\n",
        "\n",
        "if __name__ == '__main__':\n",
        "    app.run(debug=True)\n",
        "\"\"\")"
      ],
      "metadata": {
        "colab": {
          "base_uri": "https://localhost:8080/"
        },
        "id": "x5Tz09kRPuDA",
        "outputId": "94a33733-b4d7-46e2-9997-ff3882e3a02e"
      },
      "execution_count": 15,
      "outputs": [
        {
          "output_type": "stream",
          "name": "stdout",
          "text": [
            "Model saved as 'best_model.pkl'.\n",
            "To deploy the model as an API, use a framework like Flask or FastAPI.\n",
            "\n",
            "Example Flask API:\n",
            "------------------\n",
            "from flask import Flask, request, jsonify\n",
            "import joblib\n",
            "\n",
            "app = Flask(__name__)\n",
            "model = joblib.load('best_model.pkl')\n",
            "\n",
            "@app.route('/predict', methods=['POST'])\n",
            "def predict():\n",
            "    data = request.json\n",
            "    prediction = model.predict([data['features']])\n",
            "    return jsonify({'prediction': int(prediction[0])})\n",
            "\n",
            "if __name__ == '__main__':\n",
            "    app.run(debug=True)\n",
            "\n"
          ]
        }
      ]
    },
    {
      "cell_type": "code",
      "source": [],
      "metadata": {
        "id": "RvLpK-zfPuFI"
      },
      "execution_count": null,
      "outputs": []
    },
    {
      "cell_type": "code",
      "source": [],
      "metadata": {
        "id": "DDk_rHNmPuHT"
      },
      "execution_count": null,
      "outputs": []
    },
    {
      "cell_type": "code",
      "source": [],
      "metadata": {
        "id": "6NWB-1FrPuKw"
      },
      "execution_count": null,
      "outputs": []
    }
  ]
}